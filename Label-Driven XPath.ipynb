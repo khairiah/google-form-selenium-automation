{
 "cells": [
  {
   "cell_type": "code",
   "execution_count": 25,
   "id": "8cede413-23c6-41f4-8287-178c9b575e5b",
   "metadata": {},
   "outputs": [],
   "source": [
    "# control the browser \n",
    "from selenium import webdriver\n",
    "# simulate keyboard presses\n",
    "from selenium.webdriver.common.keys import Keys\n",
    "# locate elements using various methods include: name, class name, tag name, CSS selector, XPath\n",
    "from selenium.webdriver.common.by import By\n",
    "# for implementing wait\n",
    "from selenium.webdriver.support.ui import WebDriverWait\n",
    "from selenium.webdriver.support import expected_conditions as EC\n",
    "import time"
   ]
  },
  {
   "cell_type": "markdown",
   "id": "14283efe-ccec-4f94-9f38-373888b539e4",
   "metadata": {},
   "source": [
    "- For this form, labels are unique and appears before it's corresponding input field. \n",
    "- Order-independent. Using label-based XPath with `following::` axis to find the correct input regardless of the form's order. Even if the questions are rearranged, it will still find the correct field as long as the label text remains the same. \n",
    "- Works for both single input fields and multi-line textareas at one go."
   ]
  },
  {
   "cell_type": "code",
   "execution_count": 26,
   "id": "deb1bafc-3970-4cd6-9411-adbf346e6221",
   "metadata": {},
   "outputs": [],
   "source": [
    "labels = [\"Name\",\"Email\",\"Phone number\",\"Address\",\"Comments\"] "
   ]
  },
  {
   "cell_type": "code",
   "execution_count": 27,
   "id": "d7c34659-f27f-41ae-a93c-774fa5d1648c",
   "metadata": {},
   "outputs": [],
   "source": [
    "classList = [\n",
    "  ['JDE student','JDE@gmail.com','123456789','2474 Hong Kong SAR','NA'],\n",
    "  ['JDE Instructor','JDE2@gmail.com','987654321','2143 Singapore','NA']\n",
    "]"
   ]
  },
  {
   "cell_type": "code",
   "execution_count": 28,
   "id": "9621f986-f5b1-4c80-8005-2649659e498b",
   "metadata": {},
   "outputs": [],
   "source": [
    "# launch browser instance\n",
    "driver = webdriver.Chrome() \n",
    "#navigate to the site\n",
    "URL = \"https://docs.google.com/forms/d/e/1FAIpQLSeYmAdf649WvdEBxbaVxt2kWlxifYogaVk3kS4IjUW0E5zWsQ/viewform\""
   ]
  },
  {
   "cell_type": "code",
   "execution_count": 29,
   "id": "0a1856ad-6abc-46a8-8f50-469b5aae22ac",
   "metadata": {},
   "outputs": [],
   "source": [
    "TIMEOUT = 5"
   ]
  },
  {
   "cell_type": "code",
   "execution_count": 30,
   "id": "829208dc-ee56-4d63-bc6d-b3e44cd1382d",
   "metadata": {},
   "outputs": [],
   "source": [
    "# find the input field/text area on the form that matches the given label, return the xpath so we can interact with it\n",
    "def get_field_by_label(driver, label_text):\n",
    "    \n",
    "    # find <div role=\"heading\" that contains the label\n",
    "    # get either <input> or <textarea> that comes after the label\n",
    "    xpath = (\n",
    "        \"(\"        \n",
    "            f\"//div[@role='heading'][.//span[text()='{label_text}']]/\" \n",
    "            \"following::input[@jsname='YPqjbf']\"    \n",
    "            \"|\"\n",
    "            f\"//div[@role='heading'][.//span[text()='{label_text}']]/\"\n",
    "            \"following::textarea[@jsname='YPqjbf']\"\n",
    "        \")\"  \n",
    "    )\n",
    "\n",
    "    return driver.find_element(By.XPATH, xpath)"
   ]
  },
  {
   "cell_type": "code",
   "execution_count": 31,
   "id": "711ccb74-1744-4816-a323-920d742e9ebf",
   "metadata": {},
   "outputs": [],
   "source": [
    "def main():\n",
    "    \n",
    "    for data in classList:\n",
    "        # navigate to specified URL in the chrome browser       \n",
    "        driver.get(URL)\n",
    "\n",
    "        # add delay\n",
    "        # time.sleep(5)\n",
    "        # locating form element, assuming its child elements (textinputs, buttons) are likely ready too\n",
    "        WebDriverWait(driver,TIMEOUT).until(\n",
    "            EC.presence_of_element_located((By.ID,\"mG61Hd\"))\n",
    "        )\n",
    "          \n",
    "        for label,value in zip(labels,data):\n",
    "            print(f\"{label} -> {value}\")\n",
    "                   \n",
    "            # pass selenium browser instance, current label e.g. Name to build xpath\n",
    "            field = get_field_by_label(driver,label)\n",
    "            \n",
    "            field.clear() #clear any existing text\n",
    "            field.send_keys(value) #type into the field\n",
    "\n",
    "        # Finds the <span> element on the page that contains the text “Submit” and click it.\n",
    "        driver.find_element(By.XPATH, \"//span[text()='Submit']\").click()\n",
    "\n",
    "        # Pause and wait until the form has fully submitted and redirected to the confirmation page before moving on to next record\n",
    "        # Since Google Forms always redirects to a URL containing \"formResponse\". (https://docs.google.com/forms/.........../formResponse)\n",
    "        WebDriverWait(driver, TIMEOUT).until(\n",
    "            EC.url_contains(\"formResponse\")\n",
    "        )\n",
    "\n",
    "    # close browser window and end webdriver session\n",
    "    driver.quit()    "
   ]
  },
  {
   "cell_type": "code",
   "execution_count": 32,
   "id": "a5549488-0b34-4337-a85d-f677cada782e",
   "metadata": {},
   "outputs": [
    {
     "name": "stdout",
     "output_type": "stream",
     "text": [
      "Name -> JDE student\n",
      "Email -> JDE@gmail.com\n",
      "Phone number -> 123456789\n",
      "Address -> 2474 Hong Kong SAR\n",
      "Comments -> NA\n",
      "Name -> JDE Instructor\n",
      "Email -> JDE2@gmail.com\n",
      "Phone number -> 987654321\n",
      "Address -> 2143 Singapore\n",
      "Comments -> NA\n"
     ]
    }
   ],
   "source": [
    "if __name__==\"__main__\":\n",
    "    main()"
   ]
  },
  {
   "cell_type": "raw",
   "id": "8dd4f9a2-d1e2-4e64-afa2-4cc4f4ac1182",
   "metadata": {},
   "source": [
    "Checking successful form submission\n",
    "\n",
    "#find div with the successful form submission text even if it's not visible yet - fragility around confirm message  \n",
    "WebDriverWait(driver, TIMEOUT).until(\n",
    "EC.presence_of_element_located((By.XPATH,\n",
    "    # '//div[contains(text(),\"Thanks for submitting\")]' - partial match\n",
    "    \"//div[text()=\\\"Thanks for submitting your contact info!\\\"]\"\n",
    "   ))\n",
    ")"
   ]
  },
  {
   "cell_type": "code",
   "execution_count": null,
   "id": "ff4d4ea2-c0ab-448d-a8e7-b5b38ee0e827",
   "metadata": {},
   "outputs": [],
   "source": []
  }
 ],
 "metadata": {
  "kernelspec": {
   "display_name": "Python [conda env:base] *",
   "language": "python",
   "name": "conda-base-py"
  },
  "language_info": {
   "codemirror_mode": {
    "name": "ipython",
    "version": 3
   },
   "file_extension": ".py",
   "mimetype": "text/x-python",
   "name": "python",
   "nbconvert_exporter": "python",
   "pygments_lexer": "ipython3",
   "version": "3.13.5"
  }
 },
 "nbformat": 4,
 "nbformat_minor": 5
}
